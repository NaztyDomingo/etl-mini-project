{
 "cells": [
  {
   "cell_type": "code",
   "execution_count": 112,
   "metadata": {},
   "outputs": [],
   "source": [
    "import pandas as pd\n",
    "import numpy as np\n",
    "import matplotlib.pyplot as plt\n",
    "import os\n",
    "import requests\n",
    "import json"
   ]
  },
  {
   "cell_type": "markdown",
   "metadata": {},
   "source": [
    "# TO DO\n",
    "\n",
    "- Fix functions, combine cleaning with processing, simplify.\n",
    "- Make processing and harmonizing file as module"
   ]
  },
  {
   "cell_type": "code",
   "execution_count": 113,
   "metadata": {},
   "outputs": [],
   "source": [
    "CURR_PATH = os.getcwd()\n",
    "TARGET_PATH_SMHI = os.path.join(CURR_PATH, 'smhi_data')\n",
    "TARGET_PATH_MET = os.path.join(CURR_PATH, 'met_data')"
   ]
  },
  {
   "cell_type": "code",
   "execution_count": 114,
   "metadata": {},
   "outputs": [],
   "source": [
    "locations = [\n",
    "    {'lat': 59.3, 'lon': 18.0},  # Stockholm\n",
    "    {'lat': 55.6, 'lon': 12.5}  # Copenhagen\n",
    "]"
   ]
  },
  {
   "cell_type": "code",
   "execution_count": 115,
   "metadata": {},
   "outputs": [],
   "source": [
    "def _create_smhi_url(lat, lon ):\n",
    "    return f\"https://opendata-download-metfcst.smhi.se/api/category/pmp3g/version/2/geotype/point/lon/{lon}/lat/{lat}/data.json\"\n",
    "\n",
    "\n",
    "def _create_met_url(lat, lon):\n",
    "    return f'https://api.met.no/weatherapi/locationforecast/2.0/compact?lat={lat}&lon={lon}'\n",
    "\n",
    "def get_smhi_data(lat, lon):\n",
    "    smhi_url = _create_smhi_url(lat, lon)\n",
    "    smhi_response = requests.get(smhi_url)\n",
    "    \n",
    "    if smhi_response.status_code == 200:\n",
    "        smhi_data = smhi_response.json()\n",
    "        print('SMHI data retrieved successfully')\n",
    "        return smhi_data\n",
    "    else:\n",
    "        print(f\"Failed to retrieve SMHI data: HTTP {smhi_response.status_code}\")\n",
    "        return None\n",
    "\n",
    "def get_met_data(lat, lon):\n",
    "    met_url = _create_met_url(lat, lon)\n",
    "    headers = {'User-Agent': 'your-email@example.com'}  # Ensure you add a User-Agent\n",
    "    met_response = requests.get(met_url, headers=headers)\n",
    "\n",
    "    if met_response.status_code == 200:\n",
    "        met_data = met_response.json()\n",
    "        print('MET data retrieved successfully')\n",
    "        return met_data\n",
    "    else:\n",
    "        print(f\"Failed to retrieve MET data: HTTP {met_response.status_code}\")\n",
    "        return None"
   ]
  },
  {
   "cell_type": "code",
   "execution_count": 116,
   "metadata": {},
   "outputs": [],
   "source": [
    "def fetch_api_data():\n",
    "    for location in locations:\n",
    "        lat = location['lat']\n",
    "        lon = location['lon']\n",
    "        \n",
    "        smhi_data = get_smhi_data(lat, lon)\n",
    "        if smhi_data:\n",
    "            with open(TARGET_PATH_SMHI, 'w') as f:\n",
    "                json.dump(smhi_data, f)\n",
    "\n",
    "        met_data = get_met_data(lat, lon)\n",
    "        if met_data:\n",
    "            with open(TARGET_PATH_MET, 'w') as f:\n",
    "                json.dump(met_data, f)\n",
    "\n",
    "    return smhi_data, met_data"
   ]
  },
  {
   "cell_type": "code",
   "execution_count": 127,
   "metadata": {},
   "outputs": [],
   "source": [
    "def process_smhi_weather_data(weather_data):\n",
    "    \n",
    "    time_series = weather_data['timeSeries']\n",
    "\n",
    "    processed_data = []\n",
    "\n",
    "    for time_entry in time_series:\n",
    "        valid_time = time_entry['validTime']\n",
    "\n",
    "        parameters = time_entry['parameters']\n",
    "\n",
    "        processed_entry = {'valid_time': valid_time}\n",
    "\n",
    "        for parameter in parameters:\n",
    "            name = parameter['name']\n",
    "            values = parameter['values'] # List of values\n",
    "            values = tuple(parameter['values']) # Convert to tuple\n",
    "            values = values[0]\n",
    "            \n",
    "\n",
    "            processed_entry[name] = values\n",
    "\n",
    "        processed_data.append(processed_entry)\n",
    "\n",
    "    smhi_df = pd.DataFrame(processed_data)\n",
    "\n",
    "    return smhi_df\n",
    "\n",
    "def process_met_weather_data(weather_data):\n",
    "\n",
    "    met_df = pd.json_normalize(weather_data['properties']['timeseries'])\n",
    "\n",
    "    met_df['valid_time'] = pd.to_datetime(met_df['time'])\n",
    "    met_df = met_df.drop(columns=['time'])\n",
    "\n",
    "    met_df = met_df.set_index('valid_time')\n",
    "\n",
    "   \n",
    "    return met_df"
   ]
  },
  {
   "cell_type": "code",
   "execution_count": 118,
   "metadata": {},
   "outputs": [
    {
     "name": "stdout",
     "output_type": "stream",
     "text": [
      "SMHI data retrieved successfully\n",
      "MET data retrieved successfully\n",
      "SMHI data retrieved successfully\n",
      "MET data retrieved successfully\n"
     ]
    }
   ],
   "source": [
    "smhi_data, met_data = fetch_api_data() # DONT RUN EVERYTIME"
   ]
  },
  {
   "cell_type": "code",
   "execution_count": 128,
   "metadata": {},
   "outputs": [],
   "source": [
    "met_df = process_met_weather_data(met_data)\n",
    "smhi_df = process_smhi_weather_data(smhi_data)"
   ]
  },
  {
   "cell_type": "code",
   "execution_count": 129,
   "metadata": {},
   "outputs": [],
   "source": [
    "def clean_met_data(met_df):\n",
    "\n",
    "    met_df = met_df.drop(columns=['data.next_12_hours.summary.symbol_code',\n",
    "                                'data.next_1_hours.summary.symbol_code',\n",
    "                                'data.next_1_hours.details.precipitation_amount',\n",
    "                                'data.next_6_hours.summary.symbol_code',\n",
    "                                'data.next_6_hours.details.precipitation_amount'])\n",
    "    \n",
    "    return met_df\n",
    "\n",
    "def clean_smhi_data(smhi_df):\n",
    "    weather_mapping = {\n",
    "    1: 'Clear sky',\n",
    "    2: 'Nearly clear sky',\n",
    "    3: 'Variable cloudiness',\n",
    "    4: 'Halfclear sky',\n",
    "    5: 'Cloudy sky',\n",
    "    6: 'Overcast',\n",
    "    7: 'Fog',\n",
    "    8: 'Light rain showers',\n",
    "    9: 'Moderate rain showers',\n",
    "    10: 'Heavy rain showers',\n",
    "    11: 'Thunderstorm',\n",
    "    12: 'Light sleet showers',\n",
    "    13: 'Moderate sleet showers',\n",
    "    14: 'Heavy sleet showers',\n",
    "    15: 'Light snow showers',\n",
    "    16: 'Moderate snow showers',\n",
    "    17: 'Heavy snow showers',\n",
    "    18: 'Light rain',\n",
    "    19: 'Moderate rain',\n",
    "    20: 'Heavy rain',\n",
    "    21: 'Thunder',\n",
    "    22: 'Light sleet',\n",
    "    23: 'Moderate sleet',\n",
    "    24: 'Heavy sleet',\n",
    "    25: 'Light snowfall',\n",
    "    26: 'Moderate snowfall',\n",
    "    27: 'Heavy snowfall'\n",
    "}\n",
    "\n",
    "    smhi_df['weather_description'] = smhi_df['Wsymb2'].map(weather_mapping)\n",
    "\n",
    "    smhi_df = smhi_df.drop(columns=['Wsymb2', 'Wsymb2'])\n",
    "\n",
    "    smhi_df = smhi_df.rename(columns={\n",
    "        't': 'temperature',\n",
    "        'vis': 'visibility',\n",
    "        'wd': 'wind_direction',\n",
    "        'ws': 'wind_speed',\n",
    "        'r': 'humidity',\n",
    "        'tstm': 'thunderstorm_probability',\n",
    "        'tcc_mean': 'total_cloud_cover',\n",
    "        'lcc_mean': 'low_level_cloud_cover',\n",
    "        'mcc_mean': 'medium_level_cloud_cover',\n",
    "        'hcc_mean': 'high_level_cloud_cover',\n",
    "        'gust': 'wind_gust_speed',\n",
    "        'pmin': 'min_precipitation_intensity',\n",
    "        'pmax': 'max_precipitation_intensity',\n",
    "        'spp': 'precipitation_frozen_form',\n",
    "        'pcat': 'precipitation_category',\n",
    "        'pmean': 'mean_precipitation_intensity',\n",
    "        'pmedian': 'median_precipitation_intensity'\n",
    "    })\n",
    "\n",
    "    smhi_df['valid_time'] = pd.to_datetime(smhi_df['valid_time'])\n",
    "    smhi_df = smhi_df.set_index('valid_time')\n",
    "\n",
    "    return smhi_df\n"
   ]
  },
  {
   "cell_type": "code",
   "execution_count": 130,
   "metadata": {},
   "outputs": [],
   "source": [
    "met_df = clean_met_data(met_df)\n",
    "smhi_df = clean_smhi_data(smhi_df)"
   ]
  },
  {
   "cell_type": "code",
   "execution_count": 123,
   "metadata": {},
   "outputs": [],
   "source": [
    "# Process data for each location\n",
    "smhi_dfs = []\n",
    "met_dfs = []\n",
    "\n",
    "for location in locations:\n",
    "    # lat = location['lat']\n",
    "    # lon = location['lon']\n",
    "    # smhi_df = process_smhi_weather_data(smhi_data)\n",
    "    # met_df = process_met_weather_data(met_data)\n",
    "    smhi_dfs.append(smhi_df)\n",
    "    met_dfs.append(met_df)\n",
    "\n",
    "# Concatenate all dataframes\n",
    "smhi_combined_df = pd.concat(smhi_dfs, ignore_index=True)\n",
    "met_combined_df = pd.concat(met_dfs, ignore_index=True)\n",
    "\n",
    "# Merge the datasets\n",
    "# merged_df = pd.merge(smhi_combined_df, met_combined_df, on=[''], suffixes=('_smhi', '_met'))"
   ]
  },
  {
   "cell_type": "code",
   "execution_count": 125,
   "metadata": {},
   "outputs": [
    {
     "name": "stdout",
     "output_type": "stream",
     "text": [
      "<class 'pandas.core.frame.DataFrame'>\n",
      "RangeIndex: 156 entries, 0 to 155\n",
      "Data columns (total 19 columns):\n",
      " #   Column                          Non-Null Count  Dtype  \n",
      "---  ------                          --------------  -----  \n",
      " 0   precipitation_frozen_form       156 non-null    int64  \n",
      " 1   precipitation_category          156 non-null    int64  \n",
      " 2   min_precipitation_intensity     156 non-null    float64\n",
      " 3   mean_precipitation_intensity    156 non-null    float64\n",
      " 4   max_precipitation_intensity     156 non-null    float64\n",
      " 5   median_precipitation_intensity  156 non-null    float64\n",
      " 6   total_cloud_cover               156 non-null    int64  \n",
      " 7   low_level_cloud_cover           156 non-null    int64  \n",
      " 8   medium_level_cloud_cover        156 non-null    int64  \n",
      " 9   high_level_cloud_cover          156 non-null    int64  \n",
      " 10  temperature                     156 non-null    float64\n",
      " 11  msl                             156 non-null    float64\n",
      " 12  visibility                      156 non-null    float64\n",
      " 13  wind_direction                  156 non-null    int64  \n",
      " 14  wind_speed                      156 non-null    float64\n",
      " 15  humidity                        156 non-null    int64  \n",
      " 16  thunderstorm_probability        156 non-null    int64  \n",
      " 17  wind_gust_speed                 156 non-null    float64\n",
      " 18  weather_description             156 non-null    object \n",
      "dtypes: float64(9), int64(9), object(1)\n",
      "memory usage: 23.3+ KB\n"
     ]
    }
   ],
   "source": [
    "smhi_combined_df.info()"
   ]
  },
  {
   "cell_type": "code",
   "execution_count": 131,
   "metadata": {},
   "outputs": [
    {
     "name": "stdout",
     "output_type": "stream",
     "text": [
      "<class 'pandas.core.frame.DataFrame'>\n",
      "DatetimeIndex: 78 entries, 2024-08-19 22:00:00+00:00 to 2024-08-29 12:00:00+00:00\n",
      "Data columns (total 19 columns):\n",
      " #   Column                          Non-Null Count  Dtype  \n",
      "---  ------                          --------------  -----  \n",
      " 0   precipitation_frozen_form       78 non-null     int64  \n",
      " 1   precipitation_category          78 non-null     int64  \n",
      " 2   min_precipitation_intensity     78 non-null     float64\n",
      " 3   mean_precipitation_intensity    78 non-null     float64\n",
      " 4   max_precipitation_intensity     78 non-null     float64\n",
      " 5   median_precipitation_intensity  78 non-null     float64\n",
      " 6   total_cloud_cover               78 non-null     int64  \n",
      " 7   low_level_cloud_cover           78 non-null     int64  \n",
      " 8   medium_level_cloud_cover        78 non-null     int64  \n",
      " 9   high_level_cloud_cover          78 non-null     int64  \n",
      " 10  temperature                     78 non-null     float64\n",
      " 11  msl                             78 non-null     float64\n",
      " 12  visibility                      78 non-null     float64\n",
      " 13  wind_direction                  78 non-null     int64  \n",
      " 14  wind_speed                      78 non-null     float64\n",
      " 15  humidity                        78 non-null     int64  \n",
      " 16  thunderstorm_probability        78 non-null     int64  \n",
      " 17  wind_gust_speed                 78 non-null     float64\n",
      " 18  weather_description             78 non-null     object \n",
      "dtypes: float64(9), int64(9), object(1)\n",
      "memory usage: 12.2+ KB\n"
     ]
    }
   ],
   "source": [
    "smhi_df.info()"
   ]
  },
  {
   "cell_type": "code",
   "execution_count": 132,
   "metadata": {},
   "outputs": [
    {
     "name": "stdout",
     "output_type": "stream",
     "text": [
      "<class 'pandas.core.frame.DataFrame'>\n",
      "DatetimeIndex: 88 entries, 2024-08-19 21:00:00+00:00 to 2024-08-29 18:00:00+00:00\n",
      "Data columns (total 6 columns):\n",
      " #   Column                                          Non-Null Count  Dtype  \n",
      "---  ------                                          --------------  -----  \n",
      " 0   data.instant.details.air_pressure_at_sea_level  88 non-null     float64\n",
      " 1   data.instant.details.air_temperature            88 non-null     float64\n",
      " 2   data.instant.details.cloud_area_fraction        88 non-null     float64\n",
      " 3   data.instant.details.relative_humidity          88 non-null     float64\n",
      " 4   data.instant.details.wind_from_direction        88 non-null     float64\n",
      " 5   data.instant.details.wind_speed                 88 non-null     float64\n",
      "dtypes: float64(6)\n",
      "memory usage: 4.8 KB\n"
     ]
    }
   ],
   "source": [
    "met_df.info()"
   ]
  },
  {
   "cell_type": "code",
   "execution_count": null,
   "metadata": {},
   "outputs": [],
   "source": []
  }
 ],
 "metadata": {
  "kernelspec": {
   "display_name": "venv",
   "language": "python",
   "name": "python3"
  },
  "language_info": {
   "codemirror_mode": {
    "name": "ipython",
    "version": 3
   },
   "file_extension": ".py",
   "mimetype": "text/x-python",
   "name": "python",
   "nbconvert_exporter": "python",
   "pygments_lexer": "ipython3",
   "version": "3.12.3"
  }
 },
 "nbformat": 4,
 "nbformat_minor": 2
}
